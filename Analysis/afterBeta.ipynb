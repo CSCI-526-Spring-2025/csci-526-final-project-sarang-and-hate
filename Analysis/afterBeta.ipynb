{
 "cells": [
  {
   "cell_type": "markdown",
   "metadata": {},
   "source": [
    "## Analyze the player's response after distribution"
   ]
  },
  {
   "cell_type": "code",
   "execution_count": null,
   "metadata": {},
   "outputs": [],
   "source": [
    "import pandas as pd\n",
    "import numpy as np\n",
    "import matplotlib.pyplot as plt\n",
    "\n"
   ]
  },
  {
   "cell_type": "code",
   "execution_count": 15,
   "metadata": {},
   "outputs": [
    {
     "name": "stdout",
     "output_type": "stream",
     "text": [
      "Index(['Timestamp', 'sessionID', '2DmapUsed', 'wallsRotated', 'powerUpsUsed',\n",
      "       'trapTilesSteppedOn', 'magicTilesSteppedOn', 'deadlocked', 'timesUp',\n",
      "       'levelCompleted', 'levelName', 'stuckTile'],\n",
      "      dtype='object')\n",
      "                Timestamp           sessionID  2DmapUsed wallsRotated  \\\n",
      "0 2025-04-07 00:48:01.350  638795836600070504          1          Yes   \n",
      "1 2025-04-07 00:48:33.656  638795836939729786          0          Yes   \n",
      "2 2025-04-07 00:56:21.372  638795841577561699          0          Yes   \n",
      "3 2025-04-07 00:58:52.429  638795842850589017          0          Yes   \n",
      "4 2025-04-07 00:59:53.111  638795843343194281          0          Yes   \n",
      "\n",
      "   powerUpsUsed  trapTilesSteppedOn  magicTilesSteppedOn deadlocked timesUp  \\\n",
      "0             0                   0                    0         No      No   \n",
      "1             0                   0                    0         No      No   \n",
      "2             0                   0                    0         No      No   \n",
      "3             3                   1                    0         No      No   \n",
      "4             1                   2                    2         No      No   \n",
      "\n",
      "  levelCompleted levelName stuckTile  \n",
      "0            Yes       NaN       NaN  \n",
      "1            Yes       NaN       NaN  \n",
      "2            Yes  Tutorial       NaN  \n",
      "3            Yes   Level 1       NaN  \n",
      "4            Yes   Level 2       NaN  \n"
     ]
    }
   ],
   "source": [
    "# Step 1: Load the data\n",
    "beta_analysis = pd.read_excel('Responses.xlsx')\n",
    "print(beta_analysis.columns)\n",
    "print(beta_analysis.head())\n"
   ]
  },
  {
   "cell_type": "code",
   "execution_count": 36,
   "metadata": {},
   "outputs": [
    {
     "name": "stdout",
     "output_type": "stream",
     "text": [
      "levelName\n",
      "Level 1     166\n",
      "Level 2     124\n",
      "Tutorial    278\n",
      "dtype: int64\n"
     ]
    }
   ],
   "source": [
    "# Before doing so, I need to divide that into several groups based on group data\n",
    "level_distribution = beta_analysis.groupby('levelName').size()\n",
    "print(level_distribution)"
   ]
  },
  {
   "cell_type": "code",
   "execution_count": 37,
   "metadata": {},
   "outputs": [
    {
     "name": "stdout",
     "output_type": "stream",
     "text": [
      "The usage of 2D maps by default in percentage: \n",
      "2DmapUsed\n",
      "0    41.228070\n",
      "1    21.403509\n",
      "2    13.859649\n",
      "5     9.824561\n",
      "3     8.596491\n",
      "4     5.087719\n",
      "Name: proportion, dtype: float64\n",
      "\n",
      "\n",
      "The usage of 2D maps after grouping by levelName is: \n",
      "levelName  2DmapUsed\n",
      "Level 1    0             58\n",
      "           1             38\n",
      "           2             30\n",
      "           3             17\n",
      "           4             10\n",
      "           5             13\n",
      "Level 2    0             65\n",
      "           1             18\n",
      "           2             21\n",
      "           3             10\n",
      "           4              3\n",
      "           5              7\n",
      "Tutorial   0            111\n",
      "           1             65\n",
      "           2             28\n",
      "           3             22\n",
      "           4             16\n",
      "           5             36\n",
      "Name: count, dtype: int64\n"
     ]
    }
   ],
   "source": [
    "# Step 2: Understand what issues the users are likely to encounter after the game is finished.\n",
    "\n",
    "# Metric 1.1: The usage of 2D maps by default\n",
    "usage_2d = beta_analysis[\"2DmapUsed\"].value_counts(normalize=True)\n",
    "print(\"The usage of 2D maps by default in percentage: \")\n",
    "usage_2d = usage_2d * 100\n",
    "print(usage_2d)\n",
    "\n",
    "print(\"\\n\")\n",
    "\n",
    "# Metric 1.2: What happen if everything is based on levels\n",
    "usage_2d_levels = beta_analysis.groupby(\"levelName\")[\"2DmapUsed\"].value_counts(normalize=False).sort_index(level=[0, 1])\n",
    "print(\"The usage of 2D maps after grouping by levelName is: \")\n",
    "print(usage_2d_levels)\n",
    "\n"
   ]
  },
  {
   "cell_type": "code",
   "execution_count": 41,
   "metadata": {},
   "outputs": [
    {
     "name": "stdout",
     "output_type": "stream",
     "text": [
      "The usage of wall rotation is: \n",
      "wallsRotated\n",
      "No     215\n",
      "Yes    355\n",
      "dtype: int64\n",
      "\n",
      "\n",
      "levelName  wallsRotated\n",
      "Level 1    No               38\n",
      "           Yes             128\n",
      "Level 2    No               11\n",
      "           Yes             113\n",
      "Tutorial   No              166\n",
      "           Yes             112\n",
      "dtype: int64\n"
     ]
    }
   ],
   "source": [
    "# Metric 2.1\n",
    "usage_wall_rotation = beta_analysis.groupby('wallsRotated').size()\n",
    "print(\"The usage of wall rotation is: \")\n",
    "print(usage_wall_rotation)\n",
    "\n",
    "print(\"\\n\")\n",
    "\n",
    "#Metric 2.2 The Usage of wall rotation by level\n",
    "usage_wall_rotation_2D = beta_analysis.groupby(['levelName', 'wallsRotated']).size()\n",
    "print(usage_wall_rotation_2D)\n",
    "\n"
   ]
  },
  {
   "cell_type": "code",
   "execution_count": 48,
   "metadata": {},
   "outputs": [
    {
     "name": "stdout",
     "output_type": "stream",
     "text": [
      "The usage of powerup in general is:\n",
      "\n",
      "\n",
      "powerUpsUsed\n",
      "0    289\n",
      "1    236\n",
      "2     32\n",
      "3     13\n",
      "dtype: int64\n",
      "The usage of trap tiles in general is: \n",
      "\n",
      "\n",
      "trapTilesSteppedOn\n",
      "0    348\n",
      "1     89\n",
      "2     80\n",
      "3     40\n",
      "4     10\n",
      "5      2\n",
      "6      1\n",
      "dtype: int64\n",
      "The usage of magic tiles in general is: \n",
      "\n",
      "\n",
      "magicTilesSteppedOn\n",
      "0    483\n",
      "1     15\n",
      "2     43\n",
      "3     12\n",
      "4     12\n",
      "5      3\n",
      "6      2\n",
      "dtype: int64\n",
      "The usage of powerup by level is: \n",
      "\n",
      "\n",
      "levelName  powerUpsUsed\n",
      "Level 1    0                70\n",
      "           1                52\n",
      "           2                31\n",
      "           3                13\n",
      "Level 2    0                82\n",
      "           1                41\n",
      "           2                 1\n",
      "Tutorial   0               135\n",
      "           1               143\n",
      "dtype: int64\n",
      "The usage of trap tiles by level is: \n",
      "\n",
      "\n",
      "levelName  trapTilesSteppedOn\n",
      "Level 1    0                      35\n",
      "           1                      45\n",
      "           2                      45\n",
      "           3                      30\n",
      "           4                       9\n",
      "           5                       2\n",
      "Level 2    0                      33\n",
      "           1                      44\n",
      "           2                      35\n",
      "           3                      10\n",
      "           4                       1\n",
      "           6                       1\n",
      "Tutorial   0                     278\n",
      "dtype: int64\n",
      "The usage of magic tiles by level is: \n",
      "\n",
      "\n",
      "levelName  magicTilesSteppedOn\n",
      "Level 1    0                      166\n",
      "Level 2    0                       37\n",
      "           1                       15\n",
      "           2                       43\n",
      "           3                       12\n",
      "           4                       12\n",
      "           5                        3\n",
      "           6                        2\n",
      "Tutorial   0                      278\n",
      "dtype: int64\n"
     ]
    }
   ],
   "source": [
    "# Metric 3.1 For props such as trap tiles and magic tiles, analyzing the usage of those in an efficacious manner enables our team to find out whether or not they bring satisfaction to players.\n",
    "powerup_usage = beta_analysis.groupby('powerUpsUsed').size()\n",
    "trap_tile_stepon = beta_analysis.groupby('trapTilesSteppedOn').size()\n",
    "magic_tile_stepon = beta_analysis.groupby('magicTilesSteppedOn').size()\n",
    "\n",
    "print(\"The usage of powerup in general is:\")\n",
    "print(\"\\n\")\n",
    "print(powerup_usage)\n",
    "print(\"The usage of trap tiles in general is: \") \n",
    "print(\"\\n\")\n",
    "print(trap_tile_stepon)\n",
    "print(\"The usage of magic tiles in general is: \")\n",
    "print(\"\\n\")\n",
    "print(magic_tile_stepon)\n",
    "\n",
    "\n",
    "# Metric 3.2 The usage of powerup by level\n",
    "powerup_usage_level = beta_analysis.groupby(['levelName', 'powerUpsUsed']).size()\n",
    "trap_tile_stepon_level = beta_analysis.groupby(['levelName', 'trapTilesSteppedOn']).size()\n",
    "magic_tile_stepon_level = beta_analysis.groupby(['levelName', 'magicTilesSteppedOn']).size()\n",
    "print(\"The usage of powerup by level is: \")\n",
    "print(\"\\n\")\n",
    "print(powerup_usage_level)\n",
    "\n",
    "print(\"The usage of trap tiles by level is: \")\n",
    "print(\"\\n\")\n",
    "print(trap_tile_stepon_level)\n",
    "\n",
    "print(\"The usage of magic tiles by level is: \")\n",
    "print(\"\\n\")\n",
    "print(magic_tile_stepon_level)"
   ]
  },
  {
   "cell_type": "code",
   "execution_count": null,
   "metadata": {},
   "outputs": [
    {
     "name": "stdout",
     "output_type": "stream",
     "text": [
      "levelName  levelCompleted\n",
      "Level 1    No                141\n",
      "           Yes                25\n",
      "Level 2    No                107\n",
      "           Yes                17\n",
      "Tutorial   No                220\n",
      "           Yes                58\n",
      "dtype: int64\n"
     ]
    }
   ],
   "source": [
    "#Metric 4: The reasons why players fail the game at each level\n",
    "levels_category_result = beta_analysis.groupby(['levelName', 'levelCompleted']).size()\n",
    "print(levels_category_result)\n",
    "\n",
    "\n"
   ]
  },
  {
   "cell_type": "code",
   "execution_count": 55,
   "metadata": {},
   "outputs": [
    {
     "name": "stdout",
     "output_type": "stream",
     "text": [
      "                  Timestamp           sessionID  2DmapUsed wallsRotated  \\\n",
      "5   2025-04-07 01:00:48.471  638795844420687376          1           No   \n",
      "6   2025-04-07 01:00:48.714  638795844420687376          1           No   \n",
      "7   2025-04-07 01:02:18.091  638795844498458519          0           No   \n",
      "8   2025-04-07 01:02:50.331  638795844498458519          0           No   \n",
      "9   2025-04-07 01:06:11.580  638795847543857583          2           No   \n",
      "..                      ...                 ...        ...          ...   \n",
      "559 2025-04-15 14:49:38.993  638803252592220032          1          Yes   \n",
      "560 2025-04-15 14:49:54.693  638803253142269952          1          Yes   \n",
      "561 2025-04-15 14:52:00.919  638803253999910016          3          Yes   \n",
      "562 2025-04-15 14:53:18.747  638803254664280064          2          Yes   \n",
      "563 2025-04-15 15:26:25.000  638803249331750016          0          Yes   \n",
      "\n",
      "     powerUpsUsed  trapTilesSteppedOn  magicTilesSteppedOn deadlocked timesUp  \\\n",
      "5               0                   0                    0        Yes      No   \n",
      "6               0                   0                    0        Yes      No   \n",
      "7               0                   0                    0        Yes      No   \n",
      "8               0                   0                    0        Yes     Yes   \n",
      "9               0                   0                    0        Yes     Yes   \n",
      "..            ...                 ...                  ...        ...     ...   \n",
      "559             1                   2                    0         No     Yes   \n",
      "560             1                   2                    3        Yes     Yes   \n",
      "561             1                   3                    3        Yes     Yes   \n",
      "562             0                   1                    1         No     Yes   \n",
      "563             0                   1                    2        Yes     Yes   \n",
      "\n",
      "    levelCompleted levelName stuckTile  \n",
      "5               No   Level 1       NaN  \n",
      "6               No   Level 1       NaN  \n",
      "7               No   Level 1       NaN  \n",
      "8               No   Level 1       NaN  \n",
      "9               No   Level 1       NaN  \n",
      "..             ...       ...       ...  \n",
      "559             No   Level 1       NaN  \n",
      "560             No   Level 2       NaN  \n",
      "561             No   Level 2       NaN  \n",
      "562             No   Level 2       NaN  \n",
      "563             No   Level 2       NaN  \n",
      "\n",
      "[468 rows x 12 columns]\n",
      "The number of players who failed the game due to deadlock at each level is: \n",
      "\n",
      "\n",
      "levelName  deadlocked\n",
      "Level 1    No              7\n",
      "           Yes           134\n",
      "Level 2    No              6\n",
      "           Yes           101\n",
      "Tutorial   No             19\n",
      "           Yes           201\n",
      "dtype: int64\n",
      "The number of players who failed the game due to timeup at each level is: \n",
      "\n",
      "\n",
      "levelName  timesUp\n",
      "Level 1    No         124\n",
      "           Yes         17\n",
      "Level 2    No          73\n",
      "           Yes         34\n",
      "Tutorial   No         190\n",
      "           Yes         30\n",
      "dtype: int64\n"
     ]
    }
   ],
   "source": [
    "# Meanwhile, we have to select those entries whose levelCompleted is False\n",
    "failed_levels = beta_analysis[beta_analysis['levelCompleted'] == \"No\"]\n",
    "print(failed_levels)\n",
    "\n",
    "# Then based on those results that failed, it is necessary to look for the reasons behind the level failure.\n",
    "failed_levels_deadlock = failed_levels.groupby(['levelName', 'deadlocked']).size()\n",
    "\n",
    "failed_levels_timesUp = failed_levels.groupby(['levelName', 'timesUp']).size()\n",
    "\n",
    "print(\"The number of players who failed the game due to deadlock at each level is: \")\n",
    "print(\"\\n\")\n",
    "print(failed_levels_deadlock)\n",
    "\n",
    "print(\"The number of players who failed the game due to timeup at each level is: \")\n",
    "print(\"\\n\")\n",
    "print(failed_levels_timesUp)\n",
    "\n",
    "\n",
    "\n"
   ]
  },
  {
   "cell_type": "code",
   "execution_count": null,
   "metadata": {},
   "outputs": [],
   "source": []
  }
 ],
 "metadata": {
  "kernelspec": {
   "display_name": "Python 3",
   "language": "python",
   "name": "python3"
  },
  "language_info": {
   "codemirror_mode": {
    "name": "ipython",
    "version": 3
   },
   "file_extension": ".py",
   "mimetype": "text/x-python",
   "name": "python",
   "nbconvert_exporter": "python",
   "pygments_lexer": "ipython3",
   "version": "3.11.9"
  }
 },
 "nbformat": 4,
 "nbformat_minor": 2
}
